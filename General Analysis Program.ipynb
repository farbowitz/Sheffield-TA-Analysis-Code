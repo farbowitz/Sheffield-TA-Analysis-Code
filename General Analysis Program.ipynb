{
 "cells": [
  {
   "cell_type": "markdown",
   "metadata": {},
   "source": [
    "General Data Analysis:\n",
    "an effort to clean PBDB-T:ITIC data and allow for dynamic data processing"
   ]
  },
  {
   "cell_type": "code",
   "execution_count": null,
   "metadata": {},
   "outputs": [],
   "source": [
    "#IMPORT LIBRARIES\n",
    "from datetime import datetime\n",
    "import pandas as pd\n",
    "import numpy as np\n",
    "import scipy\n",
    "from scipy import optimize\n",
    "import scipy.integrate as integrate\n",
    "from scipy.integrate import quad\n",
    "import matplotlib as mpl\n",
    "import matplotlib.pyplot as plt\n",
    "from scipy.interpolate import interp1d\n",
    "from mpl_toolkits import mplot3d\n",
    "from datetime import timedelta\n",
    "from lmfit.models import LorentzianModel\n",
    "import statistics\n",
    "from matplotlib.collections import LineCollection \n",
    "from matplotlib import cm\n",
    "from matplotlib.colors import ListedColormap, LinearSegmentedColormap\n",
    "from mpl_toolkits.mplot3d import Axes3D\n",
    "from matplotlib.ticker import LinearLocator, FormatStrFormatter\n",
    "from scipy.signal import argrelmax\n",
    "#import CSV data from drive\n",
    "#from google.colab import drive\n",
    "import glob\n",
    "import os"
   ]
  },
  {
   "cell_type": "markdown",
   "metadata": {},
   "source": [
    "Define classes for data: individual datasets vs entire runs"
   ]
  },
  {
   "cell_type": "code",
   "execution_count": null,
   "metadata": {},
   "outputs": [],
   "source": [
    "\n",
    "\n",
    "\n",
    "class Data:\n",
    "    def __init__(self, time_frame, spectral_region):\n",
    "        acceptable_times = ['ps', 'ns', 'inf']\n",
    "        acceptable_spectra = ['UVVis', 'NIR', 'all']\n",
    "        if time_frame in acceptable_times and spectral_region in acceptable_spectra:\n",
    "            self.time_frame = time_frame\n",
    "            self.spectral_region = spectral_region\n",
    "        else:\n",
    "            print('Time or spectral region incorrect. Acceptable times are {} and spectral regions are {}'.format(acceptable_times, acceptable_spectra))\n",
    "            return None\n",
    "        self.import_selector(time_frame, spectral_region)\n",
    "    \n",
    "    #DEFINE FOLDERS WHERE DATA IS\n",
    "    def import_selector(self, time_frame, spectral_region):\n",
    "        \n",
    "        pass\n",
    "    def import_hdf5(self):\n",
    "        pass\n",
    "    def import_csv(self, folder):\n",
    "        pass\n",
    "\n",
    "\n",
    "#similar to Pandas DataFrame\n",
    "class Dataset(Data):\n",
    "    def __init__(self, filename):\n",
    "        #give name from filename\n",
    "        pass\n",
    "\n",
    "\n",
    "    def model(self):\n",
    "        pass\n",
    "\n",
    "#kinetics class inherited from Dataset?\n"
   ]
  },
  {
   "cell_type": "markdown",
   "metadata": {},
   "source": [
    "Would want to operate like so:"
   ]
  },
  {
   "cell_type": "code",
   "execution_count": null,
   "metadata": {},
   "outputs": [],
   "source": [
    "for Dataset in Data:\n",
    "    Dataset.kinetics()\n"
   ]
  },
  {
   "cell_type": "markdown",
   "metadata": {},
   "source": [
    "Might take a bit too much time, leave this for now. Focus on comparing data. Get it done.\n"
   ]
  }
 ],
 "metadata": {
  "kernelspec": {
   "display_name": "Python 3.9.5 ('base')",
   "language": "python",
   "name": "python3"
  },
  "language_info": {
   "name": "python",
   "version": "3.9.5"
  },
  "orig_nbformat": 4,
  "vscode": {
   "interpreter": {
    "hash": "19d1d53a962d236aa061289c2ac16dc8e6d9648c89fe79f459ae9a3493bc67b4"
   }
  }
 },
 "nbformat": 4,
 "nbformat_minor": 2
}
